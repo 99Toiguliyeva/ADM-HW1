{
 "cells": [
  {
   "cell_type": "markdown",
   "id": "03664654-ccb3-474b-a002-9ea0c342ea97",
   "metadata": {},
   "source": [
    "## ADM HOMEWORK 1"
   ]
  },
  {
   "cell_type": "markdown",
   "id": "326184ea-f32e-47db-aa88-f885e197b3a2",
   "metadata": {},
   "source": [
    "## Problem 1"
   ]
  },
  {
   "cell_type": "markdown",
   "id": "18216a84-f294-41dd-9529-c8e87600c59c",
   "metadata": {},
   "source": [
    "## Introduction"
   ]
  },
  {
   "cell_type": "markdown",
   "id": "015b9aa9-a016-4b09-b25b-d4f981837dda",
   "metadata": {},
   "source": [
    "### Say \"Hello, World!\" With Python"
   ]
  },
  {
   "cell_type": "code",
   "execution_count": 3,
   "id": "552ccab0-4266-4bdd-922c-0feca123a67e",
   "metadata": {},
   "outputs": [
    {
     "name": "stdout",
     "output_type": "stream",
     "text": [
      "Hello, World!\n"
     ]
    }
   ],
   "source": [
    "my_name=('Hello, World!')\n",
    "print(my_name)"
   ]
  },
  {
   "cell_type": "markdown",
   "id": "1f70879c-4a8c-402a-b05e-8e9378a67767",
   "metadata": {},
   "source": [
    "### Python If-Else"
   ]
  },
  {
   "cell_type": "code",
   "execution_count": 4,
   "id": "e4486efb-b833-49f4-a6bf-6e9dcbfe435b",
   "metadata": {},
   "outputs": [
    {
     "name": "stdin",
     "output_type": "stream",
     "text": [
      " 3\n"
     ]
    },
    {
     "name": "stdout",
     "output_type": "stream",
     "text": [
      "Weird\n"
     ]
    }
   ],
   "source": [
    "#!/bin/python\n",
    "\n",
    "import math\n",
    "import os\n",
    "import random\n",
    "import re\n",
    "import sys\n",
    "\n",
    "n = int(input())\n",
    "if n%2==1:\n",
    "    print('Weird')\n",
    "if n%2==0 and 2<=n<=5:\n",
    "    print('Not Weird')\n",
    "if n%2==0 and 6<=n<=20:\n",
    "    print('Weird')\n",
    "if n%2==0 and n>20:\n",
    "    print('Not Weird')"
   ]
  },
  {
   "cell_type": "markdown",
   "id": "a132d97d-5f23-4ee4-8afe-37ffc8174aff",
   "metadata": {},
   "source": [
    "## Arithmetic Operators"
   ]
  },
  {
   "cell_type": "code",
   "execution_count": 7,
   "id": "ce2dd86d-30a8-4a25-af36-be16c7999186",
   "metadata": {},
   "outputs": [
    {
     "name": "stdin",
     "output_type": "stream",
     "text": [
      " 3\n",
      " 2\n"
     ]
    },
    {
     "name": "stdout",
     "output_type": "stream",
     "text": [
      "5\n",
      "1\n",
      "6\n"
     ]
    }
   ],
   "source": [
    "a = int(input())                         \n",
    "b = int(input())\n",
    "\n",
    "if 1<=a<=10**10 and 1<=b<=10**10:        \n",
    "\n",
    " print (a+b)                             \n",
    " print (a-b)                      \n",
    " print (a*b)      \n"
   ]
  },
  {
   "cell_type": "markdown",
   "id": "076a8f98-7943-49b2-9ee6-cf9181fb905b",
   "metadata": {},
   "source": [
    "## Python: Division"
   ]
  },
  {
   "cell_type": "code",
   "execution_count": 8,
   "id": "78fa874c-5108-432c-8340-da3440c70667",
   "metadata": {},
   "outputs": [
    {
     "name": "stdin",
     "output_type": "stream",
     "text": [
      " 4\n",
      " 3\n"
     ]
    },
    {
     "name": "stdout",
     "output_type": "stream",
     "text": [
      "1\n",
      "1.3333333333333333\n"
     ]
    }
   ],
   "source": [
    "if __name__ == '__main__':\n",
    "    a = int(input())\n",
    "    b = int(input())\n",
    "    print(a//b)\n",
    "    print(a/b)\n"
   ]
  },
  {
   "cell_type": "markdown",
   "id": "f3b54f9d-0b09-441b-aa6e-defe130d7c05",
   "metadata": {},
   "source": [
    "## Loops"
   ]
  },
  {
   "cell_type": "code",
   "execution_count": 9,
   "id": "be89e23a-d2c3-4889-9cba-9b283a60bbac",
   "metadata": {},
   "outputs": [
    {
     "name": "stdin",
     "output_type": "stream",
     "text": [
      " 5\n"
     ]
    },
    {
     "name": "stdout",
     "output_type": "stream",
     "text": [
      "0\n",
      "1\n",
      "4\n",
      "9\n",
      "16\n"
     ]
    }
   ],
   "source": [
    "if __name__ == '__main__':\n",
    "    n = int(input())\n",
    "    for i in range(n):\n",
    "        print(i*i)\n"
   ]
  },
  {
   "cell_type": "markdown",
   "id": "9d434947-9ea5-46b8-a788-85d3eccceb24",
   "metadata": {},
   "source": [
    "## Write a function"
   ]
  },
  {
   "cell_type": "code",
   "execution_count": 1,
   "id": "81509a2a-5e7b-45fc-9fd4-5f4f9eb860f5",
   "metadata": {},
   "outputs": [
    {
     "name": "stdin",
     "output_type": "stream",
     "text": [
      " 1990\n"
     ]
    },
    {
     "name": "stdout",
     "output_type": "stream",
     "text": [
      "False\n"
     ]
    }
   ],
   "source": [
    "def is_leap(year):\n",
    "    leap = False\n",
    "    \n",
    "    if(year%400==0):\n",
    "        leap=True\n",
    "    elif(year%100==0):\n",
    "        leap=False\n",
    "    elif(year%4==0):\n",
    "        leap=True\n",
    "    return leap\n",
    "\n",
    "\n",
    "\n",
    "year = int(input())\n",
    "print(is_leap(year))"
   ]
  },
  {
   "cell_type": "markdown",
   "id": "9df38b8f-69f9-4423-8523-40fa68e32f90",
   "metadata": {},
   "source": [
    "## Print Function"
   ]
  },
  {
   "cell_type": "code",
   "execution_count": 2,
   "id": "49acab0b-6542-4f78-897c-6b9d0b156cf0",
   "metadata": {},
   "outputs": [
    {
     "name": "stdin",
     "output_type": "stream",
     "text": [
      " 3\n"
     ]
    },
    {
     "name": "stdout",
     "output_type": "stream",
     "text": [
      "123"
     ]
    }
   ],
   "source": [
    "def is_consecutive(n):\n",
    "    for i in range(n):\n",
    "        print(i+1,end=\"\")\n",
    "n = int(input())\n",
    "is_consecutive(n)\n"
   ]
  },
  {
   "cell_type": "markdown",
   "id": "57f32186-9e5b-48c0-a2c7-21c08f82e100",
   "metadata": {},
   "source": [
    "# Data types"
   ]
  },
  {
   "cell_type": "markdown",
   "id": "86beec56-fe5e-48e4-a5f0-c1ac5f5c77b2",
   "metadata": {},
   "source": [
    "## List Comprehensions"
   ]
  },
  {
   "cell_type": "code",
   "execution_count": 3,
   "id": "587c97fc-4903-4b50-af01-651afe08b4a4",
   "metadata": {},
   "outputs": [
    {
     "name": "stdin",
     "output_type": "stream",
     "text": [
      " 1\n",
      " 1\n",
      " 1\n",
      " 2\n"
     ]
    },
    {
     "name": "stdout",
     "output_type": "stream",
     "text": [
      "[[0, 0, 0], [0, 0, 1], [0, 1, 0], [1, 0, 0], [1, 1, 1]]\n"
     ]
    }
   ],
   "source": [
    "x = int(input())\n",
    "y = int(input())\n",
    "z = int(input())\n",
    "n = int(input())\n",
    "    \n",
    "amd = [[i,j,k] for i in range(x+1) for j in range(y+1) for k in range(z+1) if i+j+k!=n]\n",
    "print (amd)\n"
   ]
  },
  {
   "cell_type": "markdown",
   "id": "6a1555d4-5071-4df8-be4a-b8cdb1f5a2be",
   "metadata": {},
   "source": [
    "## Find the Runner-Up Score!"
   ]
  },
  {
   "cell_type": "code",
   "execution_count": 5,
   "id": "0f56cdd3-b2df-43bd-90e2-8d704dcb5bad",
   "metadata": {},
   "outputs": [
    {
     "name": "stdin",
     "output_type": "stream",
     "text": [
      " 5\n",
      " 2 3 6 6 5\n"
     ]
    },
    {
     "name": "stdout",
     "output_type": "stream",
     "text": [
      "5\n"
     ]
    }
   ],
   "source": [
    "if __name__ == '__main__':\n",
    "    n = int(input())\n",
    "    arr = map(int, input().split())\n",
    "    print(sorted(list(set(arr)))[-2])\n"
   ]
  },
  {
   "cell_type": "markdown",
   "id": "db2ee48c-f436-4af5-b576-3d2fd0eb69a7",
   "metadata": {},
   "source": [
    "## Nested Lists"
   ]
  },
  {
   "cell_type": "code",
   "execution_count": 6,
   "id": "f7f1f6cf-8822-4404-bf7b-25afc2650183",
   "metadata": {},
   "outputs": [
    {
     "name": "stdin",
     "output_type": "stream",
     "text": [
      " 5\n",
      " Harry\n",
      " 37.21\n",
      " Berry\n",
      " 37.21\n",
      " Tina\n",
      " 37.2\n",
      " Akriti\n",
      " 41\n",
      " Harsh\n",
      " 39\n"
     ]
    },
    {
     "name": "stdout",
     "output_type": "stream",
     "text": [
      "Berry\n",
      "Harry\n"
     ]
    }
   ],
   "source": [
    "if __name__ == '__main__':\n",
    "    student_grade=[]\n",
    "    for _ in range(int(input())):\n",
    "         name=input()\n",
    "         score=float(input())\n",
    "         student_grade.append([name,score])\n",
    "    sort=sorted(list(set([x[1] for x in student_grade])))\n",
    "    second=sort[1]\n",
    "    \n",
    "    student_list=[]\n",
    "    for n in student_grade:\n",
    "        if second==n[1]:\n",
    "            student_list.append(n[0])\n",
    "    for n in sorted(student_list):\n",
    "        print(n)\n"
   ]
  },
  {
   "cell_type": "markdown",
   "id": "dfcc8873-5863-4509-aa92-3cb2d021712b",
   "metadata": {},
   "source": [
    "## Finding the percentage"
   ]
  },
  {
   "cell_type": "code",
   "execution_count": 7,
   "id": "13ee5500-9557-438a-b72d-b1ea1f7bcc8f",
   "metadata": {},
   "outputs": [
    {
     "name": "stdin",
     "output_type": "stream",
     "text": [
      " 3 \n",
      " Krishna 67 68 69 \n",
      " Arjun 70 98 63\n",
      "  Malika 52 56 60 \n",
      " Malika\n"
     ]
    },
    {
     "name": "stdout",
     "output_type": "stream",
     "text": [
      "56.00\n"
     ]
    }
   ],
   "source": [
    "if __name__ == '__main__':\n",
    "    n = int(input())\n",
    "    student_marks = {}\n",
    "    for _ in range(n):\n",
    "        name, *line = input().split()\n",
    "        scores = list(map(float, line))\n",
    "        student_marks[name] = scores\n",
    "    query_name = input()\n",
    "    l=list(student_marks[query_name])\n",
    "    print(\"%0.2f\" %(sum(l)/(len(l))))\n"
   ]
  },
  {
   "cell_type": "markdown",
   "id": "fa49c86d-59d2-416d-a767-f160d8d37e45",
   "metadata": {},
   "source": [
    "## Lists"
   ]
  },
  {
   "cell_type": "code",
   "execution_count": 8,
   "id": "f68f67e2-2a2f-4af0-a975-48b365147098",
   "metadata": {},
   "outputs": [
    {
     "name": "stdin",
     "output_type": "stream",
     "text": [
      " 12 \n",
      " insert 0 5 \n",
      " insert 1 10 \n",
      " insert 0 6 \n",
      " print\n"
     ]
    },
    {
     "name": "stdout",
     "output_type": "stream",
     "text": [
      "[6, 5, 10]\n"
     ]
    },
    {
     "name": "stdin",
     "output_type": "stream",
     "text": [
      "  remove 6 \n",
      " append 9 \n",
      " append 1 \n",
      " sort \n",
      " print \n"
     ]
    },
    {
     "name": "stdout",
     "output_type": "stream",
     "text": [
      "[1, 5, 9, 10]\n"
     ]
    },
    {
     "name": "stdin",
     "output_type": "stream",
     "text": [
      " pop \n",
      " reverse \n",
      " print\n"
     ]
    },
    {
     "name": "stdout",
     "output_type": "stream",
     "text": [
      "[9, 5, 1]\n"
     ]
    }
   ],
   "source": [
    "if __name__ == '__main__':\n",
    "    N = int(input())\n",
    "    List=list()\n",
    "    for i in range(N):\n",
    "       name,*a=input().split()\n",
    "       b=list(map(int,a))\n",
    "       if len(b)==2:\n",
    "          f=[b[0]]\n",
    "          s=[b[1]]\n",
    "       elif len(b)==1:\n",
    "          f=[b[0]]\n",
    "       if name =='insert':\n",
    "          List.insert(f[0],s[0])\n",
    "       elif name == 'append':\n",
    "          List.append(f[0])\n",
    "       elif  name == 'remove':\n",
    "          List.remove(f[0])\n",
    "       elif name =='print':\n",
    "          print(List)\n",
    "       elif name == 'reverse':\n",
    "          List.reverse()\n",
    "       elif name =='pop':\n",
    "          List.pop()\n",
    "       elif name == 'sort':\n",
    "          List.sort()\n"
   ]
  },
  {
   "cell_type": "markdown",
   "id": "a620decd-bbaf-4edc-bf86-2a46b6d66e30",
   "metadata": {},
   "source": [
    "## Tuples"
   ]
  },
  {
   "cell_type": "code",
   "execution_count": 11,
   "id": "7b5b0836-cdb8-4aaf-a9d7-1a50f98e12f9",
   "metadata": {},
   "outputs": [
    {
     "name": "stdin",
     "output_type": "stream",
     "text": [
      " 2\n",
      " 1 2\n"
     ]
    },
    {
     "name": "stdout",
     "output_type": "stream",
     "text": [
      "-3550055125485641917\n"
     ]
    }
   ],
   "source": [
    "if __name__ == '__main__':\n",
    "    n = int(input())\n",
    "    integer_list = map(int, input().split())\n",
    "    t=tuple(integer_list)\n",
    "    print(hash(t))\n"
   ]
  },
  {
   "cell_type": "markdown",
   "id": "f21d9bbe-49ee-4b51-9185-2aa2904deee6",
   "metadata": {},
   "source": [
    "# STRINGS"
   ]
  },
  {
   "cell_type": "markdown",
   "id": "fece9178-77e7-49e1-9614-4daf35cee8fc",
   "metadata": {},
   "source": [
    "## sWAP cASE"
   ]
  },
  {
   "cell_type": "code",
   "execution_count": 1,
   "id": "46dab9aa-8def-4429-9a75-782942ad7deb",
   "metadata": {},
   "outputs": [
    {
     "name": "stdin",
     "output_type": "stream",
     "text": [
      " Hello Altynay\n"
     ]
    },
    {
     "name": "stdout",
     "output_type": "stream",
     "text": [
      "hELLO aLTYNAY\n"
     ]
    }
   ],
   "source": [
    "def swap_case(s):\n",
    "    return s.swapcase()\n",
    "\n",
    "if __name__ == '__main__':\n",
    "    s = input()\n",
    "    result = swap_case(s)\n",
    "    print(result)"
   ]
  },
  {
   "cell_type": "markdown",
   "id": "646e9791-485e-4378-9d6f-d2c0b3e76ccd",
   "metadata": {},
   "source": [
    "## String Split and Join"
   ]
  },
  {
   "cell_type": "code",
   "execution_count": 4,
   "id": "f59ea042-e96d-40a1-8a1b-c25d76857a29",
   "metadata": {},
   "outputs": [
    {
     "name": "stdin",
     "output_type": "stream",
     "text": [
      " this is a string\n"
     ]
    },
    {
     "name": "stdout",
     "output_type": "stream",
     "text": [
      "this-is-a-string\n"
     ]
    }
   ],
   "source": [
    "def split_and_join(line):\n",
    "    # write your code here\n",
    "     a=line.split(\" \")\n",
    "     a=\"-\".join(a)\n",
    "     return a\n",
    "     \n",
    "if __name__ == '__main__':\n",
    "    line = input()\n",
    "    result = split_and_join(line)\n",
    "    print(result)"
   ]
  },
  {
   "cell_type": "markdown",
   "id": "7d832580-14ce-40ca-bc3f-c1c43ef17660",
   "metadata": {},
   "source": [
    "## What's Your Name?"
   ]
  },
  {
   "cell_type": "code",
   "execution_count": 6,
   "id": "89090625-0640-4fbd-90cd-32ea00ee0788",
   "metadata": {},
   "outputs": [
    {
     "name": "stdin",
     "output_type": "stream",
     "text": [
      " Ross\n",
      " Taylor\n"
     ]
    },
    {
     "name": "stdout",
     "output_type": "stream",
     "text": [
      "Hello Ross Taylor! You just delved into python.\n"
     ]
    }
   ],
   "source": [
    "def print_full_name(first, last):\n",
    "    # Write your code here\n",
    "    a='Hello {} {}! You just delved into python.'.format(first,last)\n",
    "    print(a)\n",
    "if __name__ == '__main__':\n",
    "    first_name = input()\n",
    "    last_name = input()\n",
    "    print_full_name(first_name, last_name)"
   ]
  },
  {
   "cell_type": "markdown",
   "id": "cd47222a-9123-424a-900a-ae3b2d69a371",
   "metadata": {},
   "source": [
    "## Mutations"
   ]
  },
  {
   "cell_type": "code",
   "execution_count": 8,
   "id": "0c5365e9-a791-42eb-b052-4aba16f6fe5c",
   "metadata": {},
   "outputs": [
    {
     "name": "stdin",
     "output_type": "stream",
     "text": [
      " abracadabra\n",
      " 5 k\n"
     ]
    },
    {
     "name": "stdout",
     "output_type": "stream",
     "text": [
      "abrackdabra\n"
     ]
    }
   ],
   "source": [
    "def mutate_string(string, position, character):\n",
    "    l=list(string)\n",
    "    l[position]=character\n",
    "    string=''.join(l)\n",
    "    return string\n",
    "\n",
    "if __name__ == '__main__':\n",
    "    s = input()\n",
    "    i, c = input().split()\n",
    "    s_new = mutate_string(s, int(i), c)\n",
    "    print(s_new)"
   ]
  },
  {
   "cell_type": "markdown",
   "id": "fb2716d1-0320-45ef-8e6d-f4bc8dfad91b",
   "metadata": {},
   "source": [
    "## Find a string"
   ]
  },
  {
   "cell_type": "code",
   "execution_count": 9,
   "id": "b345dcf2-6a67-480e-b726-5d62d3947ac6",
   "metadata": {},
   "outputs": [
    {
     "name": "stdin",
     "output_type": "stream",
     "text": [
      " ABCDCDC\n",
      " CDC\n"
     ]
    },
    {
     "name": "stdout",
     "output_type": "stream",
     "text": [
      "2\n"
     ]
    }
   ],
   "source": [
    "def count_substring(string, sub_string):\n",
    "    count = 0\n",
    "    for i in range(len(string)-len(sub_string)+1):\n",
    "        if (string[i:i+len(sub_string)] == sub_string):\n",
    "            count += 1\n",
    "    return count\n",
    "    \n",
    "\n",
    "if __name__ == '__main__':\n",
    "    string = input().strip()\n",
    "    sub_string = input().strip()\n",
    "    \n",
    "    count = count_substring(string, sub_string)\n",
    "    print(count)"
   ]
  },
  {
   "cell_type": "markdown",
   "id": "6fdb8cc1-2c2f-4102-b674-ae2a0749bced",
   "metadata": {},
   "source": [
    "## String Validators"
   ]
  },
  {
   "cell_type": "code",
   "execution_count": 10,
   "id": "cf069ce1-bd3b-46b3-97ac-8df31d42d1d0",
   "metadata": {},
   "outputs": [
    {
     "name": "stdin",
     "output_type": "stream",
     "text": [
      " qA2\n"
     ]
    },
    {
     "name": "stdout",
     "output_type": "stream",
     "text": [
      "True\n",
      "True\n",
      "True\n",
      "True\n",
      "True\n"
     ]
    }
   ],
   "source": [
    "if __name__ == '__main__':\n",
    "\n",
    "    string = input()\n",
    "print(any(char.isalnum() for char in string))\n",
    "print(any(char.isalpha() for char in string))\n",
    "print(any(char.isdigit() for char in string))\n",
    "print(any(char.islower() for char in string))\n",
    "print(any(char.isupper() for char in string))\n"
   ]
  },
  {
   "cell_type": "markdown",
   "id": "7bc6e862-6966-44af-a960-2b1ca4d342c8",
   "metadata": {},
   "source": [
    "## Text Alignment"
   ]
  },
  {
   "cell_type": "code",
   "execution_count": 11,
   "id": "8feaf076-ca3b-4879-8a37-9c1e7cbe162b",
   "metadata": {},
   "outputs": [
    {
     "name": "stdin",
     "output_type": "stream",
     "text": [
      " 5\n"
     ]
    },
    {
     "name": "stdout",
     "output_type": "stream",
     "text": [
      "    H    \n",
      "   HHH   \n",
      "  HHHHH  \n",
      " HHHHHHH \n",
      "HHHHHHHHH\n",
      "  HHHHH               HHHHH             \n",
      "  HHHHH               HHHHH             \n",
      "  HHHHH               HHHHH             \n",
      "  HHHHH               HHHHH             \n",
      "  HHHHH               HHHHH             \n",
      "  HHHHH               HHHHH             \n",
      "  HHHHHHHHHHHHHHHHHHHHHHHHH   \n",
      "  HHHHHHHHHHHHHHHHHHHHHHHHH   \n",
      "  HHHHHHHHHHHHHHHHHHHHHHHHH   \n",
      "  HHHHH               HHHHH             \n",
      "  HHHHH               HHHHH             \n",
      "  HHHHH               HHHHH             \n",
      "  HHHHH               HHHHH             \n",
      "  HHHHH               HHHHH             \n",
      "  HHHHH               HHHHH             \n",
      "                    HHHHHHHHH \n",
      "                     HHHHHHH  \n",
      "                      HHHHH   \n",
      "                       HHH    \n",
      "                        H     \n"
     ]
    }
   ],
   "source": [
    "# Enter your code here. Read input from STDIN. Print output to STDOUT\n",
    "input_ = int(input()) # This must be an odd number\n",
    "c = 'H'\n",
    "\n",
    "for i in range(input_):\n",
    "    print((c*i).rjust(input_-1)+c+(c*i).ljust(input_-1))\n",
    "\n",
    "for i in range(input_+1):\n",
    "    print((c*input_).center(input_*2)+(c*input_).center(input_*6))\n",
    "\n",
    "for i in range((input_+1)//2):\n",
    "    print((c*input_*5).center(input_*6))\n",
    "\n",
    "for i in range(input_+1):\n",
    "    print((c*input_).center(input_*2)+(c*input_).center(input_*6))\n",
    "\n",
    "for i in range(input_):\n",
    "    print(((c*(input_-i-1)).rjust(input_)+c+(c*(input_-i-1)).ljust(input_)).rjust(input_*6))\n"
   ]
  },
  {
   "cell_type": "markdown",
   "id": "9cc10cd5-264f-472a-bed2-3a8cbdc9c613",
   "metadata": {},
   "source": [
    "## Text Wrap"
   ]
  },
  {
   "cell_type": "code",
   "execution_count": 14,
   "id": "d4f68b69-3f74-4d4a-a098-926783d4f104",
   "metadata": {},
   "outputs": [
    {
     "name": "stdin",
     "output_type": "stream",
     "text": [
      " ABCDEFGHIJKLIMNOQRSTUVWXYZ\n",
      " 4\n"
     ]
    },
    {
     "name": "stdout",
     "output_type": "stream",
     "text": [
      "ABCD\n",
      "EFGH\n",
      "IJKL\n",
      "IMNO\n",
      "QRST\n",
      "UVWX\n",
      "YZ\n"
     ]
    }
   ],
   "source": [
    "import textwrap\n",
    "\n",
    "def wrap(string, max_width):\n",
    "    return textwrap.fill(string, max_width)\n",
    "if __name__ == '__main__':\n",
    "    string, max_width = input(), int(input())\n",
    "    result = wrap(string, max_width)\n",
    "    print(result)"
   ]
  },
  {
   "cell_type": "markdown",
   "id": "fe410691-a44e-4f3f-b37a-87a54d9cffe1",
   "metadata": {},
   "source": [
    "## Designer Door Mat"
   ]
  },
  {
   "cell_type": "code",
   "execution_count": 15,
   "id": "9c1c6518-7160-47c1-af96-835c48515f1e",
   "metadata": {},
   "outputs": [
    {
     "name": "stdin",
     "output_type": "stream",
     "text": [
      " 9 27\n"
     ]
    },
    {
     "name": "stdout",
     "output_type": "stream",
     "text": [
      "------------.|.------------\n",
      "---------.|..|..|.---------\n",
      "------.|..|..|..|..|.------\n",
      "---.|..|..|..|..|..|..|.---\n",
      "----------WELCOME----------\n",
      "---.|..|..|..|..|..|..|.---\n",
      "------.|..|..|..|..|.------\n",
      "---------.|..|..|.---------\n",
      "------------.|.------------\n"
     ]
    }
   ],
   "source": [
    "# Enter your code here. Read input from STDIN. Print output to STDOUT\n",
    "N, M = map(int, input().split())\n",
    "for i in range(1, N, 2):\n",
    "    print(str('.|.' * i).center(M, '-'))\n",
    "print('WELCOME'.center(M, '-'))\n",
    "for i in range(N-2, -1, -2):\n",
    "    print(str('.|.' * i).center(M, '-'))\n"
   ]
  },
  {
   "cell_type": "markdown",
   "id": "bdf70fd5-b694-423c-a265-9e69f30dffdd",
   "metadata": {},
   "source": [
    "## String Formatting"
   ]
  },
  {
   "cell_type": "code",
   "execution_count": 16,
   "id": "376f94af-3a0d-43a8-b00d-1cd7cdf3c67f",
   "metadata": {},
   "outputs": [
    {
     "name": "stdin",
     "output_type": "stream",
     "text": [
      " 17\n"
     ]
    },
    {
     "name": "stdout",
     "output_type": "stream",
     "text": [
      "    1     1     1     1\n",
      "    2     2     2    10\n",
      "    3     3     3    11\n",
      "    4     4     4   100\n",
      "    5     5     5   101\n",
      "    6     6     6   110\n",
      "    7     7     7   111\n",
      "    8    10     8  1000\n",
      "    9    11     9  1001\n",
      "   10    12     A  1010\n",
      "   11    13     B  1011\n",
      "   12    14     C  1100\n",
      "   13    15     D  1101\n",
      "   14    16     E  1110\n",
      "   15    17     F  1111\n",
      "   16    20    10 10000\n",
      "   17    21    11 10001\n"
     ]
    }
   ],
   "source": [
    "def print_formatted(number):\n",
    "    # your code goes here\n",
    "    width = len(\"{0:b}\".format(number))\n",
    "\n",
    "    for i in range(1, number + 1):\n",
    "        print(\"{0:{w}d} {0:{w}o} {0:{w}X} {0:{w}b}\".format(i, w = width))\n",
    "if __name__ == '__main__':\n",
    "    n = int(input())\n",
    "    print_formatted(n)"
   ]
  },
  {
   "cell_type": "markdown",
   "id": "8564d350-0761-4f7d-9163-6eb6973d30ab",
   "metadata": {},
   "source": [
    "## Alphabet Rangoli"
   ]
  },
  {
   "cell_type": "code",
   "execution_count": 17,
   "id": "c12d69e7-fd64-490b-9576-80ac43bbf7bd",
   "metadata": {},
   "outputs": [
    {
     "name": "stdin",
     "output_type": "stream",
     "text": [
      " 5\n"
     ]
    },
    {
     "name": "stdout",
     "output_type": "stream",
     "text": [
      "--------e--------\n",
      "------e-d-e------\n",
      "----e-d-c-d-e----\n",
      "--e-d-c-b-c-d-e--\n",
      "e-d-c-b-a-b-c-d-e\n",
      "--e-d-c-b-c-d-e--\n",
      "----e-d-c-d-e----\n",
      "------e-d-e------\n",
      "--------e--------\n"
     ]
    }
   ],
   "source": [
    "def print_rangoli(size):\n",
    "    # your code goes here\n",
    "    import string\n",
    "    alpha = string.ascii_lowercase\n",
    "\n",
    "    L = []\n",
    "    for i in range(n):\n",
    "        s = \"-\".join(alpha[i:n])\n",
    "        L.append((s[::-1]+s[1:]).center(4*n-3, \"-\"))\n",
    "        \n",
    "    print('\\n'.join(L[:0:-1]+L))\n",
    "if __name__ == '__main__':\n",
    "    n = int(input())\n",
    "    print_rangoli(n)"
   ]
  },
  {
   "cell_type": "markdown",
   "id": "07b4fb20-1610-48fb-9609-ea6d7adb62f3",
   "metadata": {},
   "source": [
    "## Capitalize!"
   ]
  },
  {
   "cell_type": "code",
   "execution_count": null,
   "id": "07c226d7-c75a-47c6-a9dc-240448ae775a",
   "metadata": {},
   "outputs": [],
   "source": [
    "import math\n",
    "import os\n",
    "import random\n",
    "import re\n",
    "import sys\n",
    "\n",
    "def solve(s):\n",
    "    for i in s.split():\n",
    "        s = s.replace(i,i.capitalize())\n",
    "    return s\n",
    "\n",
    "if __name__ == '__main__':\n",
    "    fptr = open(os.environ['OUTPUT_PATH'], 'w'\n",
    "    s = input()\n",
    "    result = solve(s)\n",
    "    fptr.write(result + '\\n')\n",
    "    fptr.close()"
   ]
  },
  {
   "cell_type": "markdown",
   "id": "c9479d32-da48-45f5-8a54-cd42c55ea0f6",
   "metadata": {},
   "source": [
    "## The Minion Game"
   ]
  },
  {
   "cell_type": "code",
   "execution_count": null,
   "id": "e28ee4ea-b58b-4cf9-8cbd-138c30e9b891",
   "metadata": {},
   "outputs": [],
   "source": [
    "    def minion_game(string):\n",
    "    # your code goes here\n",
    "    Kevin = 0;\n",
    "    Stuart = 0;\n",
    "    str_len = len(string)\n",
    "    for i in range(str_len):\n",
    "        if string[i] in \"AEIOUaeiou\":\n",
    "            Kevin += (str_len)-i\n",
    "        else :\n",
    "            Stuart += (str_len)-i\n",
    "    \n",
    "    if  Kevin > Stuart:\n",
    "        print(\"Kevin {}\".format(Kevin))\n",
    "    elif  Kevin < Stuart:\n",
    "        print(\"Stuart {}\".format(Stuart))\n",
    "    elif Kevin == Stuart:\n",
    "        print(\"Draw\")\n",
    "    else :\n",
    "        print(\"Draw\") \n",
    "if __name__ == '__main__':"
   ]
  },
  {
   "cell_type": "markdown",
   "id": "c57287cb-7fbb-465c-9bd1-dbd6237e3ec3",
   "metadata": {},
   "source": [
    "## Merge the Tools!"
   ]
  },
  {
   "cell_type": "code",
   "execution_count": null,
   "id": "7f62b583-aa0a-4ac9-8e8f-140edec36de8",
   "metadata": {},
   "outputs": [],
   "source": [
    "def merge_the_tools(string, k):\n",
    "    # your code goes here\n",
    "    for i in range(0,len(string), k):\n",
    "        line = string[i:i+k]\n",
    "        new = \"\"\n",
    "        for i in line:\n",
    "            if i not in new:\n",
    "                new+=i\n",
    "        print(new)\n",
    "if __name__ == '__main__':\n",
    "    string, k = raw_input(), int(raw_input())\n",
    "    merge_the_tools(string, k)"
   ]
  },
  {
   "cell_type": "markdown",
   "id": "db011e5a-dab0-427b-8b66-f68ee3b6b568",
   "metadata": {},
   "source": [
    "# Sets"
   ]
  },
  {
   "cell_type": "markdown",
   "id": "da3627c1-1347-45e0-89e2-60af736af0df",
   "metadata": {},
   "source": [
    "## Introduction to Sets"
   ]
  },
  {
   "cell_type": "code",
   "execution_count": null,
   "id": "296b1553-f63b-404d-ad0f-ff11f8f5653a",
   "metadata": {},
   "outputs": [],
   "source": [
    "from __future__ import division\n",
    "\n",
    "def average(array):\n",
    "    # your code goes here\n",
    "    sum_=sum(set(array))\n",
    "    len_=len(set(array))\n",
    "    avg=sum_/len_\n",
    "    return avg\n",
    "if __name__ == '__main__':\n",
    "    n = int(input())\n",
    "    arr = map(int, input().split())\n",
    "    result = average(arr)\n",
    "    print(result)"
   ]
  },
  {
   "cell_type": "markdown",
   "id": "230ad348-7f20-42b1-b526-43b291ab28ea",
   "metadata": {},
   "source": [
    "## No Idea!"
   ]
  },
  {
   "cell_type": "code",
   "execution_count": null,
   "id": "e8aef3ba-d4a4-4f1b-ae7b-decd97ea0964",
   "metadata": {},
   "outputs": [],
   "source": [
    "n_m = raw_input().split()\n",
    "n_m = map(int, n_m)\n",
    "n = map(int, raw_input().split())\n",
    "A = set(map(int, raw_input().split()))\n",
    "B = set(map(int, raw_input().split()))\n",
    "\n",
    "counter = 0\n",
    "for i in n:\n",
    "    if i in A:\n",
    "        counter += 1\n",
    "    elif i in B:\n",
    "        counter -= 1\n",
    "\n",
    "print counter\n"
   ]
  },
  {
   "cell_type": "markdown",
   "id": "ef40def8-30d5-4163-a7db-3afaf51170f6",
   "metadata": {},
   "source": [
    "## Symmetric Difference"
   ]
  },
  {
   "cell_type": "code",
   "execution_count": null,
   "id": "ff1d245d-f52f-432e-b229-432e433bb861",
   "metadata": {},
   "outputs": [],
   "source": [
    "a=int(raw_input())\n",
    "a2=set(map(int,raw_input().split()))\n",
    "b=int(raw_input())\n",
    "b2=set(map(int,raw_input().split()))\n",
    "\n",
    "adif=a2.difference(b2)\n",
    "bdif=b2.difference(a2)\n",
    "\n",
    "newout=adif.union(bdif)\n",
    " \n",
    "for i in sorted(list(newout)):\n",
    "    print(i)\n"
   ]
  },
  {
   "cell_type": "markdown",
   "id": "b7c9937f-dcb4-4950-822d-9b120f6d3fe7",
   "metadata": {},
   "source": [
    "## Set .add()"
   ]
  },
  {
   "cell_type": "code",
   "execution_count": null,
   "id": "74c1bfae-a37f-4159-9926-d287a8bf5741",
   "metadata": {},
   "outputs": [],
   "source": [
    "# Enter your code here. Read input from STDIN. Print output to STDOUT\n",
    "N=int(raw_input())\n",
    "set_=set(raw_input() for i in range(N))\n",
    "print(len(set_))\n"
   ]
  },
  {
   "cell_type": "markdown",
   "id": "b7fd563c-9304-4cc6-aa06-141eb18937ae",
   "metadata": {},
   "source": [
    "## Set .union() Operation"
   ]
  },
  {
   "cell_type": "code",
   "execution_count": null,
   "id": "7ee8c1f0-8054-48eb-9a61-1964225f7053",
   "metadata": {},
   "outputs": [],
   "source": [
    "# Enter your code here. Read input from STDIN. Print output to STDOUT\n",
    "n=int(raw_input())\n",
    "set1=set(map(int,raw_input().split()))\n",
    "n2=int(raw_input())\n",
    "set2=set(map(int,raw_input().split()))\n",
    "newset=set1.union(set2)\n",
    "print(len(newset))\n"
   ]
  },
  {
   "cell_type": "markdown",
   "id": "691f0c46-3515-4541-a009-487c2c1f81dc",
   "metadata": {},
   "source": [
    "## Set .intersection() Operation"
   ]
  },
  {
   "cell_type": "code",
   "execution_count": null,
   "id": "f7306d80-f7df-4ef0-b6fd-098e00557893",
   "metadata": {},
   "outputs": [],
   "source": [
    "# Enter your code here. Read input from STDIN. Print output to STDOUT\n",
    "n=int(raw_input())\n",
    "set1=set(map(int,raw_input().split()))\n",
    "n2=int(raw_input())\n",
    "set2=set(map(int,raw_input().split()))\n",
    "newset=set1.intersection(set2)\n",
    "print(len(newset))\n"
   ]
  },
  {
   "cell_type": "markdown",
   "id": "9948c748-d1ef-48b4-b2f2-8d9d5b5d8d82",
   "metadata": {},
   "source": [
    "## Set .difference() Operation"
   ]
  },
  {
   "cell_type": "code",
   "execution_count": null,
   "id": "5f9e0268-de9b-44ef-b0ad-3ed2fde52c5c",
   "metadata": {},
   "outputs": [],
   "source": [
    "# Enter your code here. Read input from STDIN. Print output to STDOUT\n",
    "n=int(raw_input())\n",
    "set1=set(map(int,raw_input().split()))\n",
    "n2=int(raw_input())\n",
    "set2=set(map(int,raw_input().split()))\n",
    "newset=set1.difference(set2)\n",
    "print(len(newset))\n"
   ]
  },
  {
   "cell_type": "markdown",
   "id": "19aecf16-be06-449e-9f61-79644aa78393",
   "metadata": {},
   "source": [
    "## Set .symmetric_difference() Operation"
   ]
  },
  {
   "cell_type": "code",
   "execution_count": null,
   "id": "8f89ad1c-4911-42ea-9264-8cdee0cc140b",
   "metadata": {},
   "outputs": [],
   "source": [
    "eng_num = int(raw_input())\n",
    "eng_set = set(map(int, raw_input().split()))\n",
    "fren_num = int(raw_input())\n",
    "fren_set = set(map(int, raw_input().split()))\n",
    "\n",
    "print len(eng_set.difference(fren_set))"
   ]
  },
  {
   "cell_type": "markdown",
   "id": "8cbbb18a-3f86-4644-b91e-b892eaa8dfea",
   "metadata": {},
   "source": [
    "## Set Mutations"
   ]
  },
  {
   "cell_type": "code",
   "execution_count": null,
   "id": "33014109-403a-483e-827c-bbcf2af0aa58",
   "metadata": {},
   "outputs": [],
   "source": [
    "len_set = int(input())\n",
    "\n",
    "storage = set(map(int, input().split()))\n",
    "\n",
    "op_len = int(input())\n",
    "\n",
    "for i in range(op_len):\n",
    "    operation = input().split()\n",
    "    if operation[0] == 'intersection_update':\n",
    "        temp_storage = set(map(int, input().split()))\n",
    "        storage.intersection_update(temp_storage)\n",
    "    elif operation[0] == 'update':\n",
    "        temp_storage = set(map(int, input().split()))\n",
    "        storage.update(temp_storage)\n",
    "    elif operation[0] == 'symmetric_difference_update':\n",
    "        temp_storage = set(map(int, input().split()))\n",
    "        storage.symmetric_difference_update(temp_storage)\n",
    "    elif operation[0] == 'difference_update':\n",
    "        temp_storage = set(map(int, input().split()))\n",
    "        storage.difference_update(temp_storage)\n",
    "    else :\n",
    "        assert False\n",
    "\n",
    "print(sum(storage))"
   ]
  },
  {
   "cell_type": "markdown",
   "id": "a6c9f971-32e9-4da1-b67e-ea602826fa3d",
   "metadata": {},
   "source": [
    "## The Captain's Room"
   ]
  },
  {
   "cell_type": "code",
   "execution_count": null,
   "id": "6e498ee3-d021-4b9a-b27a-2f2f6d0c0678",
   "metadata": {},
   "outputs": [],
   "source": [
    "\n",
    "N = int(input())\n",
    "\n",
    "storage = map(int, input().split())\n",
    "storage = sorted(storage)\n",
    "\n",
    "for i in range(len(storage)):\n",
    "    if(i != len(storage)-1):\n",
    "        if(storage[i]!=storage[i-1] and storage[i]!=storage[i+1]):\n",
    "            print(storage[i])\n",
    "            break;\n",
    "    else:\n",
    "        print(storage[i])"
   ]
  },
  {
   "cell_type": "markdown",
   "id": "56b9a097-78f9-44f7-b930-20aa8dfd46c7",
   "metadata": {},
   "source": [
    "## Check Subset"
   ]
  },
  {
   "cell_type": "code",
   "execution_count": null,
   "id": "4fac6960-82fa-4a5e-8f1c-d4c0072dd4e7",
   "metadata": {},
   "outputs": [],
   "source": [
    "T = int(input())\n",
    "\n",
    "for _ in range(T):\n",
    "    a = input()\n",
    "    A = set(input().split())\n",
    "    b = int(input())\n",
    "    B = set(input().split())\n",
    "    print(A.issubset(B))"
   ]
  },
  {
   "cell_type": "markdown",
   "id": "55483a29-62e8-4ba7-9ef7-9b75f569578b",
   "metadata": {},
   "source": [
    "## Check Strict Superset"
   ]
  },
  {
   "cell_type": "code",
   "execution_count": null,
   "id": "3adb025e-8e63-4ab8-98d5-b645ca7d68af",
   "metadata": {},
   "outputs": [],
   "source": [
    "storage = set(input().split())\n",
    "N = int(input())\n",
    "output = True\n",
    "\n",
    "for i in range(N):\n",
    "    storage2 = set(input().split())\n",
    "    if not storage2.issubset(storage):\n",
    "        output = False\n",
    "    if len(storage2) >= len(storage):\n",
    "        output = False\n",
    "\n",
    "print(output)"
   ]
  },
  {
   "cell_type": "markdown",
   "id": "b03ae9b6-520f-43ad-8435-5b248006ff34",
   "metadata": {},
   "source": [
    "# Collections"
   ]
  },
  {
   "cell_type": "markdown",
   "id": "cf6d6311-abf6-42b5-9637-f078f03e7328",
   "metadata": {},
   "source": [
    "## collections.Counter()"
   ]
  },
  {
   "cell_type": "code",
   "execution_count": 7,
   "id": "cbc1e2db-afda-47e9-be92-e135354e1e8a",
   "metadata": {},
   "outputs": [
    {
     "name": "stdin",
     "output_type": "stream",
     "text": [
      " 10\n",
      " 2 3 4 5 6 8 7 6 5 18\n",
      " 6\n",
      " 6 55\n",
      " 6 45\n",
      " 6 55\n",
      " 4 40\n",
      " 18 60\n",
      " 10 50\n"
     ]
    },
    {
     "name": "stdout",
     "output_type": "stream",
     "text": [
      "200\n"
     ]
    }
   ],
   "source": [
    "from collections import Counter\n",
    "X = int(input())\n",
    "N = map(int,input().split())\n",
    "x = int(input())\n",
    "L = map(tuple,(map(int,input().split()) for _ in range(x)))\n",
    "n = Counter(N)\n",
    "p =0\n",
    "for i in L:\n",
    "    if i[0] in n.keys() and n[i[0]] >0 :\n",
    "        n[i[0]] = n[i[0]]-1\n",
    "        p = p+i[1]\n",
    "          \n",
    "print(p)"
   ]
  },
  {
   "cell_type": "markdown",
   "id": "68f18a3c-a2f5-4a1a-858a-f9452fda43b6",
   "metadata": {},
   "source": [
    "## DefaultDict Tutorial"
   ]
  },
  {
   "cell_type": "code",
   "execution_count": 9,
   "id": "c6eacfa1-be89-4f94-be41-e5bc4140f4c9",
   "metadata": {},
   "outputs": [
    {
     "name": "stdin",
     "output_type": "stream",
     "text": [
      " 5 2\n",
      " a\n",
      " a\n",
      " b\n",
      " a\n",
      " b\n",
      " a\n",
      " b\n"
     ]
    },
    {
     "name": "stdout",
     "output_type": "stream",
     "text": [
      "1 2 4\n",
      "3 5\n"
     ]
    }
   ],
   "source": [
    "from collections import defaultdict\n",
    "defdict = defaultdict(list)\n",
    "list1=[]\n",
    "\n",
    "a,b = map(int,input().split())\n",
    "\n",
    "for i in range(a):\n",
    "    defdict[input()].append(i+1) \n",
    "\n",
    "for i in range(b):\n",
    "    list1=list1+[input()]  \n",
    "\n",
    "for i in list1: \n",
    "    if i in defdict:\n",
    "        print(\" \".join( map(str,defdict[i]) ))\n",
    "    else:\n",
    "        print(-1)\n"
   ]
  },
  {
   "cell_type": "markdown",
   "id": "f927b3cd-d6b0-4e7d-9443-637f840ab6ca",
   "metadata": {},
   "source": [
    "## Collections.namedtuple()"
   ]
  },
  {
   "cell_type": "code",
   "execution_count": 11,
   "id": "b20fc43e-5ee4-467a-9b29-7ed4ac5b1070",
   "metadata": {},
   "outputs": [
    {
     "name": "stdin",
     "output_type": "stream",
     "text": [
      " 5\n",
      " ID         MARKS      NAME       CLASS\n",
      " 1          97         Raymond    7    \n",
      " 2          50         Steven     4 \n",
      " 3          91         Adrian     9 \n",
      " 4          72         Stewart    5         \n",
      " 5          80         Peter      6   \n"
     ]
    },
    {
     "name": "stdout",
     "output_type": "stream",
     "text": [
      "78.0\n"
     ]
    }
   ],
   "source": [
    "import collections\n",
    "\n",
    "n = int(input())\n",
    "scol = ','.join(input().split())\n",
    "Student = collections.namedtuple('Student',scol)\n",
    "\n",
    "sum = 0\n",
    "for i in range(n):\n",
    "    row = input().split()\n",
    "    student = Student(*row)\n",
    "    sum += int(student.MARKS)\n",
    "\n",
    "print(sum/n)\n"
   ]
  },
  {
   "cell_type": "markdown",
   "id": "87289b0b-3a5c-4ab4-85f9-701c8e2a7804",
   "metadata": {},
   "source": [
    "## Collections.OrderedDict()"
   ]
  },
  {
   "cell_type": "code",
   "execution_count": 12,
   "id": "7f114663-921a-4a60-a94c-d4d7e5ee9652",
   "metadata": {},
   "outputs": [
    {
     "name": "stdin",
     "output_type": "stream",
     "text": [
      " 9\n",
      " BANANA FRIES 12\n",
      " POTATO CHIPS 30\n",
      " APPLE JUICE 10\n",
      " CANDY 5\n",
      " APPLE JUICE 10\n",
      " CANDY 5\n",
      " CANDY 5\n",
      " CANDY 5\n",
      " POTATO CHIPS 30\n"
     ]
    },
    {
     "name": "stdout",
     "output_type": "stream",
     "text": [
      "APPLE JUICE 20\n",
      "BANANA FRIES 12\n",
      "CANDY 20\n",
      "POTATO CHIPS 60\n"
     ]
    }
   ],
   "source": [
    "# Enter your code here. Read input from STDIN. Print output to STDOUT\n",
    "from collections import OrderedDict\n",
    "n, d = int(input()), OrderedDict()\n",
    "for _ in range(n):\n",
    "    line = input().rstrip().split()\n",
    "    item_name, net_price = ' '.join(line[:-1]), int(line[-1])\n",
    "    if item_name in d: d[item_name] += net_price\n",
    "    else: d[item_name] = net_price\n",
    "\n",
    "for item in sorted(sorted(d, key=lambda t: t[0])):\n",
    "    print(item, d[item])\n",
    "                    "
   ]
  },
  {
   "cell_type": "markdown",
   "id": "c0005021-f237-436d-b61d-aecb3751ee24",
   "metadata": {},
   "source": [
    "## Word Order"
   ]
  },
  {
   "cell_type": "code",
   "execution_count": 13,
   "id": "aee9a67f-1b36-4e8b-b1f0-345065d0e062",
   "metadata": {},
   "outputs": [
    {
     "name": "stdin",
     "output_type": "stream",
     "text": [
      " 4\n",
      " bcdef\n",
      " abcdefg\n",
      " bcde\n",
      " bcdef\n"
     ]
    },
    {
     "name": "stdout",
     "output_type": "stream",
     "text": [
      "3\n",
      "2 1 1\n"
     ]
    }
   ],
   "source": [
    "# Enter your code here. Read input from STDIN. Print output to STDOUT\n",
    "number = int(input())\n",
    "counter = {}\n",
    "words = []\n",
    "\n",
    "for i in range(number):\n",
    "  word = input()\n",
    "  words.append(word)\n",
    "  if word in counter:\n",
    "    counter[word] += 1\n",
    "  else:\n",
    "    counter[word] = 1\n",
    "    \n",
    "print(len(counter))\n",
    "print(' '.join([str(counter[word]) for word in counter]))\n"
   ]
  },
  {
   "cell_type": "markdown",
   "id": "653aeb2e-e1b2-4765-98a8-640896f81318",
   "metadata": {},
   "source": [
    "## DefaultDict Tutorial"
   ]
  },
  {
   "cell_type": "code",
   "execution_count": 1,
   "id": "36c2d374-d2db-4fa9-aed8-5d5aca68425d",
   "metadata": {},
   "outputs": [
    {
     "name": "stdin",
     "output_type": "stream",
     "text": [
      " 5 2\n",
      " a\n",
      " a\n",
      " b\n",
      " a\n",
      " b\n",
      " a\n",
      " b\n"
     ]
    },
    {
     "name": "stdout",
     "output_type": "stream",
     "text": [
      "1 2 4\n",
      "3 5\n"
     ]
    }
   ],
   "source": [
    "# Enter your code here. Read input from STDIN. Print output to STDOUT\n",
    "from collections import defaultdict\n",
    "defdict = defaultdict(list)\n",
    "list1=[]\n",
    "\n",
    "a,b = map(int,input().split())\n",
    "\n",
    "for i in range(a):\n",
    "    defdict[input()].append(i+1) \n",
    "\n",
    "for i in range(b):\n",
    "    list1=list1+[input()]  \n",
    "\n",
    "for i in list1: \n",
    "    if i in defdict:\n",
    "        print (\" \".join( map(str,defdict[i]) ))\n",
    "    else:\n",
    "        print(-1)"
   ]
  },
  {
   "cell_type": "markdown",
   "id": "3380d379-c6dc-4357-8cba-3ca1abf74787",
   "metadata": {},
   "source": [
    "## Collections.deque()"
   ]
  },
  {
   "cell_type": "code",
   "execution_count": 2,
   "id": "5cece4be-2c71-448f-b6cb-be6c7d843e77",
   "metadata": {},
   "outputs": [
    {
     "name": "stdin",
     "output_type": "stream",
     "text": [
      " 6\n",
      " append 1\n",
      " append 2\n",
      " append 3\n",
      " appendleft 4\n",
      " pop\n",
      " popleft\n"
     ]
    },
    {
     "name": "stdout",
     "output_type": "stream",
     "text": [
      "1 2 "
     ]
    }
   ],
   "source": [
    "# Enter your code here. Read input from STDIN. Print output to STDOUT\n",
    "from collections import deque\n",
    "number = int(input())\n",
    "table = deque()\n",
    "for _ in range(number):\n",
    "    lst = list(input().split())\n",
    "    if lst[0]=='append':\n",
    "        table.append(int(lst[1]))\n",
    "    elif lst[0]=='appendleft':\n",
    "        table.appendleft(int(lst[1]))\n",
    "    elif lst[0]=='popleft':\n",
    "        table.popleft()\n",
    "    elif lst[0]=='pop':\n",
    "        table.pop()\n",
    "for i in table:\n",
    "    print(i,end=' ')\n"
   ]
  },
  {
   "cell_type": "markdown",
   "id": "3178bb7e-2348-4e3f-abc7-e4c9e07331ba",
   "metadata": {},
   "source": [
    "## Piling Up!"
   ]
  },
  {
   "cell_type": "code",
   "execution_count": 3,
   "id": "9629c7ab-2bc3-403c-a25c-7c8a19e45712",
   "metadata": {},
   "outputs": [
    {
     "name": "stdin",
     "output_type": "stream",
     "text": [
      " 2\n",
      " 6\n",
      " 4 3 2 1 3 4\n"
     ]
    },
    {
     "name": "stdout",
     "output_type": "stream",
     "text": [
      "Yes\n"
     ]
    },
    {
     "name": "stdin",
     "output_type": "stream",
     "text": [
      " 3\n",
      " 1 2 3\n"
     ]
    },
    {
     "name": "stdout",
     "output_type": "stream",
     "text": [
      "Yes\n"
     ]
    }
   ],
   "source": [
    "# Enter your code here. Read input from STDIN. Print output to STDOUT\n",
    "from collections import deque\n",
    "\n",
    "N = int(input())\n",
    "\n",
    "for _ in range(N):\n",
    "    True_ = True\n",
    "    input()\n",
    "    deq = deque(map(int, input().strip().split()))\n",
    "    if(deq[0] >= deq[-1]):\n",
    "        max = deq.popleft()\n",
    "    else:\n",
    "        max = deq.pop()\n",
    "    while deq:\n",
    "        if(len(deq)==1):\n",
    "            if(deq[0] <= max):\n",
    "                break\n",
    "            else:\n",
    "                True_ = False\n",
    "                break\n",
    "        else:\n",
    "            if(deq[0]<=max and deq[-1]<=max):\n",
    "                if(deq[0]>=deq[-1]):\n",
    "                    max = deq.popleft()\n",
    "                else:\n",
    "                    max = deq.pop()\n",
    "            elif(deq[0]<=max):\n",
    "                max = deq.popleft()\n",
    "            elif(deq[-1]<=max):\n",
    "                max = deq.pop()\n",
    "            else:\n",
    "                True_ = False\n",
    "                break\n",
    "    if True_:\n",
    "        print(\"Yes\")\n",
    "    else:\n",
    "        print(\"No\")\n"
   ]
  },
  {
   "cell_type": "markdown",
   "id": "04098415-dd32-45ca-a51f-d6109a188d63",
   "metadata": {},
   "source": [
    "## Calendar Module"
   ]
  },
  {
   "cell_type": "code",
   "execution_count": 4,
   "id": "24b59ebd-1558-4833-bd7b-0b98d94b4930",
   "metadata": {},
   "outputs": [
    {
     "name": "stdin",
     "output_type": "stream",
     "text": [
      " 08 05 2015\n"
     ]
    },
    {
     "name": "stdout",
     "output_type": "stream",
     "text": [
      "WEDNESDAY\n"
     ]
    }
   ],
   "source": [
    "# Enter your code here. Read input from STDIN. Print output to STDOUT\n",
    "import datetime\n",
    "import calendar\n",
    "\n",
    "m, d, y = map(int, input().split())\n",
    "Date = datetime.date(y, m, d)\n",
    "print(calendar.day_name[Date.weekday()].upper())\n"
   ]
  },
  {
   "cell_type": "markdown",
   "id": "cb6968b6-9d28-4a57-bffa-0d84b94548e1",
   "metadata": {},
   "source": [
    "## Built-Ins\n",
    "## Athlete Sort"
   ]
  },
  {
   "cell_type": "code",
   "execution_count": 6,
   "id": "b49308ca-112a-40dd-ae44-fea950bd3c6a",
   "metadata": {},
   "outputs": [
    {
     "name": "stdin",
     "output_type": "stream",
     "text": [
      " 5 3\n",
      " 10 2 5\n",
      " 7 1 0\n",
      " 9 9 9\n",
      " 1 23 12\n",
      " 6 5 9\n",
      " 1\n"
     ]
    }
   ],
   "source": [
    "#!/bin/python3\n",
    "\n",
    "import math\n",
    "import os\n",
    "import random\n",
    "import re\n",
    "import sys\n",
    "\n",
    "\n",
    "\n",
    "if __name__ == '__main__':\n",
    "    nm = input().split()\n",
    "\n",
    "    n = int(nm[0])\n",
    "\n",
    "    m = int(nm[1])\n",
    "\n",
    "    arr = []\n",
    "\n",
    "    for _ in range(n):\n",
    "        arr.append(list(map(int, input().rstrip().split())))\n",
    "\n",
    "    k = int(input())\n"
   ]
  },
  {
   "cell_type": "markdown",
   "id": "146d600b-48b5-44e2-bc42-f7b2ac14b9f7",
   "metadata": {},
   "source": [
    "## Decorators 2 - Name Directory\n",
    "## Closures and Decorations"
   ]
  },
  {
   "cell_type": "code",
   "execution_count": null,
   "id": "12fa3d7f-9fbd-402e-97be-7dc62ef017d4",
   "metadata": {},
   "outputs": [],
   "source": [
    "import operator\n",
    "\n",
    "def person_lister(f):\n",
    "    def inner(people):\n",
    "        # complete the function\n",
    "    return inner\n",
    "\n",
    "@person_lister\n",
    "def name_format(person):\n",
    "    return (\"Mr. \" if person[3] == \"M\" else \"Ms. \") + person[0] + \" \" + person[1]\n",
    "\n",
    "if __name__ == '__main__':\n",
    "    people = [input().split() for i in range(int(input()))]\n",
    "    print(*name_format(people), sep='\\n')"
   ]
  },
  {
   "cell_type": "markdown",
   "id": "aab12906-98fd-42a2-a733-c7f8844e9cbf",
   "metadata": {},
   "source": [
    "## Numpy\n",
    "## Arrays"
   ]
  },
  {
   "cell_type": "code",
   "execution_count": 1,
   "id": "6a543167-1f36-4438-9d82-ccd5bb1738e9",
   "metadata": {},
   "outputs": [
    {
     "name": "stdin",
     "output_type": "stream",
     "text": [
      " 1 2 3 4 -8 -10\n"
     ]
    },
    {
     "name": "stdout",
     "output_type": "stream",
     "text": [
      "[-10.  -8.   4.   3.   2.   1.]\n"
     ]
    }
   ],
   "source": [
    "import numpy\n",
    "\n",
    "def arrays(arr):\n",
    "    # complete this function\n",
    "    # use numpy.array\n",
    "    arr.reverse()\n",
    "    numpy_arr = numpy.array(arr,float)\n",
    "    return numpy_arr\n",
    "\n",
    "arr = input().strip().split(' ')\n",
    "result = arrays(arr)\n",
    "print(result)"
   ]
  },
  {
   "cell_type": "markdown",
   "id": "69b99ca0-5d30-4727-a7eb-fbbea4e4bfc9",
   "metadata": {},
   "source": [
    "## Shape and Reshape"
   ]
  },
  {
   "cell_type": "code",
   "execution_count": 3,
   "id": "586746f5-5ed5-4e57-a54a-b3a872432008",
   "metadata": {},
   "outputs": [
    {
     "name": "stdin",
     "output_type": "stream",
     "text": [
      " 1 2 3 4 5 6 7 8 9\n"
     ]
    },
    {
     "name": "stdout",
     "output_type": "stream",
     "text": [
      "[[1 2 3]\n",
      " [4 5 6]\n",
      " [7 8 9]]\n"
     ]
    }
   ],
   "source": [
    "import numpy \n",
    "arr=numpy.array(input().strip().split(' '),dtype='int')\n",
    "new_arr=numpy.reshape(arr,(3,3))\n",
    "print(new_arr)"
   ]
  },
  {
   "cell_type": "markdown",
   "id": "0103e77d-5394-47c1-95e9-e9df995d7410",
   "metadata": {},
   "source": [
    "## Transpose and Flatten"
   ]
  },
  {
   "cell_type": "code",
   "execution_count": 4,
   "id": "8fc0becf-fa3b-4132-a2e7-412d2537a312",
   "metadata": {},
   "outputs": [
    {
     "name": "stdin",
     "output_type": "stream",
     "text": [
      " 2 2\n",
      " 1 2\n",
      " 3 4\n"
     ]
    },
    {
     "name": "stdout",
     "output_type": "stream",
     "text": [
      "[[1 3]\n",
      " [2 4]]\n",
      "[1 2 3 4]\n"
     ]
    }
   ],
   "source": [
    "import numpy\n",
    "n, m = map(int, input().split())\n",
    "\n",
    "storage = numpy.array([input().strip().split() for _ in range(n)], int)\n",
    "print (storage.transpose())\n",
    "print (storage.flatten())"
   ]
  },
  {
   "cell_type": "markdown",
   "id": "e58bef8d-7c1a-4718-8661-192e9b0fbc77",
   "metadata": {},
   "source": [
    "## Concatenate"
   ]
  },
  {
   "cell_type": "code",
   "execution_count": 3,
   "id": "9d7562ba-99b5-4fe8-8962-25833d753d32",
   "metadata": {},
   "outputs": [
    {
     "name": "stdin",
     "output_type": "stream",
     "text": [
      " 4 3 2\n",
      " 1 2\n",
      " 1 2\n",
      " 1 2\n",
      " 1 2\n",
      " 3 4\n",
      " 3 4\n",
      " 3 4\n"
     ]
    },
    {
     "name": "stdout",
     "output_type": "stream",
     "text": [
      "[[1 2]\n",
      " [1 2]\n",
      " [1 2]\n",
      " [1 2]\n",
      " [3 4]\n",
      " [3 4]\n",
      " [3 4]]\n"
     ]
    }
   ],
   "source": [
    "import numpy as np\n",
    "a, b, c = map(int,input().split())\n",
    "arrA = np.array([input().split() for _ in range(a)],int)\n",
    "arrB = np.array([input().split() for _ in range(b)],int)\n",
    "print(np.concatenate((arrA, arrB), axis = 0))"
   ]
  },
  {
   "cell_type": "markdown",
   "id": "ccd6970c-4975-4929-82c3-2ccf4de8b67b",
   "metadata": {},
   "source": [
    "## Zeros and Ones"
   ]
  },
  {
   "cell_type": "code",
   "execution_count": 4,
   "id": "811fd15a-ed6f-4988-a0ce-525de0deaebd",
   "metadata": {},
   "outputs": [
    {
     "name": "stdin",
     "output_type": "stream",
     "text": [
      " 3 3 3\n"
     ]
    },
    {
     "name": "stdout",
     "output_type": "stream",
     "text": [
      "[[[0 0 0]\n",
      "  [0 0 0]\n",
      "  [0 0 0]]\n",
      "\n",
      " [[0 0 0]\n",
      "  [0 0 0]\n",
      "  [0 0 0]]\n",
      "\n",
      " [[0 0 0]\n",
      "  [0 0 0]\n",
      "  [0 0 0]]]\n",
      "[[[1 1 1]\n",
      "  [1 1 1]\n",
      "  [1 1 1]]\n",
      "\n",
      " [[1 1 1]\n",
      "  [1 1 1]\n",
      "  [1 1 1]]\n",
      "\n",
      " [[1 1 1]\n",
      "  [1 1 1]\n",
      "  [1 1 1]]]\n"
     ]
    }
   ],
   "source": [
    "import numpy\n",
    "N = tuple(map(int, input().split()))\n",
    "print(numpy.zeros(N, int))\n",
    "print(numpy.ones(N, int))"
   ]
  },
  {
   "cell_type": "markdown",
   "id": "a0394497-6380-4608-86f8-c44bf9f90484",
   "metadata": {},
   "source": [
    "## Eye and Identity"
   ]
  },
  {
   "cell_type": "code",
   "execution_count": 5,
   "id": "23fe28e8-ee84-47d2-b0f0-62ba01182737",
   "metadata": {},
   "outputs": [
    {
     "name": "stdin",
     "output_type": "stream",
     "text": [
      " 3 3\n"
     ]
    },
    {
     "name": "stdout",
     "output_type": "stream",
     "text": [
      "[[ 1.  0.  0.]\n",
      " [ 0.  1.  0.]\n",
      " [ 0.  0.  1.]]\n"
     ]
    }
   ],
   "source": [
    "import numpy\n",
    "numpy.set_printoptions(sign=' ')\n",
    "a,b=map(int, input().split())\n",
    "print(numpy.array(numpy.eye(a,b),dtype=float))"
   ]
  },
  {
   "cell_type": "markdown",
   "id": "57a89db3-e504-47ee-9934-fb5b6909333c",
   "metadata": {},
   "source": [
    "## Array Mathematics"
   ]
  },
  {
   "cell_type": "code",
   "execution_count": 6,
   "id": "40cbb01d-832a-4f12-a513-c426933d2e68",
   "metadata": {},
   "outputs": [
    {
     "name": "stdin",
     "output_type": "stream",
     "text": [
      " 1 4\n",
      " 1 2 3 4\n",
      " 5 6 7 8\n"
     ]
    },
    {
     "name": "stdout",
     "output_type": "stream",
     "text": [
      "[[ 6  8 10 12]]\n",
      "[[-4 -4 -4 -4]]\n",
      "[[ 5 12 21 32]]\n",
      "[[0 0 0 0]]\n",
      "[[1 2 3 4]]\n",
      "[[    1    64  2187 65536]]\n"
     ]
    }
   ],
   "source": [
    "import numpy\n",
    "\n",
    "N, M = map(int, input().split())\n",
    "\n",
    "A = numpy.array([list(map(int, input().split())) for n in range(N)])\n",
    "B = numpy.array([list(map(int, input().split())) for n in range(N)])\n",
    "\n",
    "print(A + B)\n",
    "print(A - B)\n",
    "print(A * B)\n",
    "print(A // B)\n",
    "print(A % B)\n",
    "print(A ** B)\n"
   ]
  },
  {
   "cell_type": "markdown",
   "id": "90c00014-2393-4258-ab67-9f62e221e9d9",
   "metadata": {},
   "source": [
    "## Floor, Ceil and Rint"
   ]
  },
  {
   "cell_type": "code",
   "execution_count": 7,
   "id": "fc0ecfe5-c3ba-440c-8bbe-997369ef7612",
   "metadata": {},
   "outputs": [
    {
     "name": "stdin",
     "output_type": "stream",
     "text": [
      " 1.1 2.2 3.3 4.4 5.5 6.6 7.7 8.8 9.9\n"
     ]
    },
    {
     "name": "stdout",
     "output_type": "stream",
     "text": [
      "[ 1.  2.  3.  4.  5.  6.  7.  8.  9.]\n",
      "[  2.   3.   4.   5.   6.   7.   8.   9.  10.]\n",
      "[  1.   2.   3.   4.   6.   7.   8.   9.  10.]\n"
     ]
    }
   ],
   "source": [
    "import numpy\n",
    "\n",
    "numpy.set_printoptions(sign=' ')\n",
    "\n",
    "array = numpy.array(input().split(),float)\n",
    "\n",
    "print(numpy.floor(array))\n",
    "print(numpy.ceil(array))\n",
    "print(numpy.rint(array))"
   ]
  },
  {
   "cell_type": "markdown",
   "id": "1d9cf150-df86-4f2c-ab2f-a0786da2b886",
   "metadata": {},
   "source": [
    "## Sum and Prod"
   ]
  },
  {
   "cell_type": "code",
   "execution_count": 9,
   "id": "f5ecbf39-fa3f-472d-b7be-5d2add26d9b5",
   "metadata": {},
   "outputs": [
    {
     "name": "stdin",
     "output_type": "stream",
     "text": [
      " 2 2\n",
      " 1 2\n",
      " 3 4\n"
     ]
    },
    {
     "name": "stdout",
     "output_type": "stream",
     "text": [
      "24\n"
     ]
    }
   ],
   "source": [
    "import numpy\n",
    "\n",
    "N, M = map(int, input().split())\n",
    "A = numpy.array([input().split() for _ in range(N)], int)\n",
    "print(numpy.prod(numpy.sum(A, axis=0), axis=0))"
   ]
  },
  {
   "cell_type": "markdown",
   "id": "2580195e-3219-4e8b-b7bb-8c261b3b1ea7",
   "metadata": {},
   "source": [
    "## Min and Max"
   ]
  },
  {
   "cell_type": "code",
   "execution_count": null,
   "id": "2dbf27ec-8c60-4a93-aeb2-0e7f90278d9b",
   "metadata": {},
   "outputs": [],
   "source": [
    "import numpy\n",
    "\n",
    "N, M = map(int, input().split())\n",
    "\n",
    "my_array = numpy.array([ map(int, input().split()) for i in range(N) ])\n",
    "\n",
    "print(numpy.max(numpy.min(my_array, axis = 1)))"
   ]
  },
  {
   "cell_type": "markdown",
   "id": "db6483ed-4db6-4e4c-acb2-f4653ca1029e",
   "metadata": {},
   "source": [
    "## Mean, Var, and Std"
   ]
  },
  {
   "cell_type": "code",
   "execution_count": null,
   "id": "abade070-975d-4d64-b08a-41bc0130c454",
   "metadata": {},
   "outputs": [],
   "source": [
    "import numpy\n",
    "\n",
    "a = map(int, input().split())\n",
    "b = numpy.array([input().split() for i in range(a[0])], int)\n",
    "print(numpy.mean(b, axis = 1))\n",
    "print(numpy.var(b, axis = 0))\n",
    "print(numpy.std(b, axis = None))"
   ]
  },
  {
   "cell_type": "markdown",
   "id": "55323f4b-ab4c-4a9c-9ad5-8feb67cbe8b6",
   "metadata": {},
   "source": [
    "## Dot and Cross"
   ]
  },
  {
   "cell_type": "code",
   "execution_count": null,
   "id": "530f96c7-df18-4130-a43b-4d5df0cd3969",
   "metadata": {},
   "outputs": [],
   "source": [
    "import numpy\n",
    "\n",
    "N = int(input())\n",
    "A = numpy.array([input().split() for i in range(N)], int)\n",
    "B = numpy.array([input().split() for i in range(N)], int)\n",
    "print numpy.dot(A, B)"
   ]
  },
  {
   "cell_type": "markdown",
   "id": "dfd23197-5af1-4c1a-b49b-19428bb731de",
   "metadata": {},
   "source": [
    "## Inner and Outer"
   ]
  },
  {
   "cell_type": "code",
   "execution_count": null,
   "id": "b4c894c4-4c4d-4dfe-837e-bb13f28d9f5b",
   "metadata": {},
   "outputs": [],
   "source": [
    "\n",
    "import numpy\n",
    "\n",
    "A = numpy.array(input().split(), int)\n",
    "B = numpy.array(input().split(), int)\n",
    "\n",
    "print numpy.inner(A, B)\n",
    "print numpy.outer(A, B)"
   ]
  },
  {
   "cell_type": "markdown",
   "id": "87e566e2-1933-48bc-81b1-d77306d7b153",
   "metadata": {},
   "source": [
    "## Polynomials"
   ]
  },
  {
   "cell_type": "code",
   "execution_count": null,
   "id": "5e017bd3-b6ee-40ab-90f6-e2ed365058f3",
   "metadata": {},
   "outputs": [],
   "source": [
    "import numpy\n",
    "k = numpy.array(map(float,input().split()))\n",
    "p = input()\n",
    "print numpy.polyval(k,p)"
   ]
  },
  {
   "cell_type": "markdown",
   "id": "b394226b-60ca-412f-81d3-963140967c32",
   "metadata": {},
   "source": [
    "## Linear Algebra"
   ]
  },
  {
   "cell_type": "code",
   "execution_count": null,
   "id": "9854fa63-22ff-4837-94d9-2b50aba4f227",
   "metadata": {},
   "outputs": [],
   "source": [
    "import numpy as np\n",
    "N = int(input())\n",
    "A = np.array([input().split() for i in range(N)],float)\n",
    "print(np.linalg.det(A))"
   ]
  },
  {
   "cell_type": "markdown",
   "id": "3fc62379-5cce-4585-9161-5cb51702bd1b",
   "metadata": {},
   "source": [
    "# Problem 2\n",
    "## Birthday Cake Candles\n",
    "\n"
   ]
  },
  {
   "cell_type": "code",
   "execution_count": null,
   "id": "de85b14e-1e98-4e8d-adac-b79074c7d03c",
   "metadata": {},
   "outputs": [],
   "source": [
    "import math\n",
    "import os\n",
    "import random\n",
    "import re\n",
    "import sys\n",
    "\n",
    "# Complete the birthdayCakeCandles function below.\n",
    "def birthdayCakeCandles(ar):\n",
    "\n",
    "    ar.sort()\n",
    "\n",
    "    result = ar.count(ar[len(ar)-1])\n",
    "    return result\n",
    "\n",
    "\n",
    "if __name__ == '__main__':\n",
    "    fptr = open(os.environ['OUTPUT_PATH'], 'w')\n",
    "\n",
    "    ar_count = int(input())\n",
    "\n",
    "    ar = list(map(int, input().rstrip().split()))\n",
    "\n",
    "    result = birthdayCakeCandles(ar)\n",
    "\n",
    "    fptr.write(str(result) + '\\n')\n",
    "\n",
    "    fptr.close()"
   ]
  },
  {
   "cell_type": "markdown",
   "id": "1e615a82-a135-4076-9c2b-7246da6fb34d",
   "metadata": {},
   "source": [
    "## Number Line Jumps\n"
   ]
  },
  {
   "cell_type": "code",
   "execution_count": null,
   "id": "757c15ec-25b6-491f-8dcc-624c0f1ff16d",
   "metadata": {},
   "outputs": [],
   "source": [
    "import math\n",
    "import os\n",
    "import random\n",
    "import re\n",
    "import sys\n",
    "\n",
    "# Complete the kangaroo function below.\n",
    "def kangaroo(x1, v1, x2, v2):\n",
    "    \n",
    "    if x2 > x1 and v2 > v1:\n",
    "        return \"NO\"\n",
    "    else:\n",
    "        if v2-v1 == 0:\n",
    "            return 'NO'\n",
    "        else:\n",
    "            result = (x1-x2) % (v2-v1)\n",
    "            if result == 0:\n",
    "                return 'YES'\n",
    "            else:\n",
    "                return 'NO'\n",
    "\n",
    "\n",
    "if __name__ == '__main__':\n",
    "    fptr = open(os.environ['OUTPUT_PATH'], 'w')\n",
    "\n",
    "    x1V1X2V2 = input().split()\n",
    "\n",
    "    x1 = int(x1V1X2V2[0])\n",
    "\n",
    "    v1 = int(x1V1X2V2[1])\n",
    "\n",
    "    x2 = int(x1V1X2V2[2])\n",
    "\n",
    "    v2 = int(x1V1X2V2[3])\n",
    "\n",
    "    result = kangaroo(x1, v1, x2, v2)\n",
    "\n",
    "    fptr.write(result + '\\n')\n",
    "\n",
    "    fptr.close()"
   ]
  },
  {
   "cell_type": "markdown",
   "id": "4292bde9-b716-43c1-9364-7dcc0d227a83",
   "metadata": {},
   "source": [
    "## Viral Advertising\n",
    "\n"
   ]
  },
  {
   "cell_type": "code",
   "execution_count": null,
   "id": "57290964-ab92-45db-80e5-c201979b26f4",
   "metadata": {},
   "outputs": [],
   "source": [
    "#!/bin/python3\n",
    "\n",
    "import math\n",
    "import os\n",
    "import random\n",
    "import re\n",
    "import sys\n",
    "\n",
    "#\n",
    "# Complete the 'viralAdvertising' function below.\n",
    "#\n",
    "# The function is expected to return an INTEGER.\n",
    "# The function accepts INTEGER n as parameter.\n",
    "#\n",
    "\n",
    "def viralAdvertising(n):\n",
    "    numOfPeopleAdvertised=5\n",
    "    \n",
    "    totNumOfPeopleLiked = 0\n",
    "    for day in range(n):\n",
    "        numOfPeopleLiked = numOfPeopleAdvertised//2\n",
    "        totNumOfPeopleLiked += numOfPeopleLiked\n",
    "        numOfPeopleAdvertised = numOfPeopleLiked*3\n",
    "        \n",
    "        \n",
    "    return totNumOfPeopleLiked\n",
    "\n",
    "if __name__ == '__main__':\n",
    "    fptr = open(os.environ['OUTPUT_PATH'], 'w')\n",
    "\n",
    "    n = int(input().strip())\n",
    "\n",
    "    result = viralAdvertising(n)\n",
    "\n",
    "    fptr.write(str(result) + '\\n')\n",
    "\n",
    "    fptr.close()\n"
   ]
  },
  {
   "cell_type": "markdown",
   "id": "632d2cad-6f64-4e93-ba68-8894e1f3e36c",
   "metadata": {},
   "source": [
    "## Recursive Digit Sum"
   ]
  },
  {
   "cell_type": "code",
   "execution_count": null,
   "id": "95c1589a-bd7a-48ca-8aa0-0ac4ca9b2bfd",
   "metadata": {},
   "outputs": [],
   "source": [
    "#!/bin/python3\n",
    "\n",
    "import math\n",
    "import os\n",
    "import random\n",
    "import re\n",
    "import sys\n",
    "\n",
    "#\n",
    "# Complete the 'superDigit' function below.\n",
    "#\n",
    "# The function is expected to return an INTEGER.\n",
    "# The function accepts following parameters:\n",
    "#  1. STRING n\n",
    "#  2. INTEGER k\n",
    "#\n",
    "\n",
    "def superDigit(n, k):\n",
    "     digits = map(int, list(n))\n",
    "     return get_super_digit(str(sum(digits) * k))\n",
    "\n",
    "def get_super_digit(p):\n",
    "    if len(p) == 1:\n",
    "        return int(p)\n",
    "    else:\n",
    "        digits = map(int, list(p))\n",
    "        return get_super_digit(str(sum(digits)))\n",
    "\n",
    "\n",
    "if __name__ == '__main__':\n",
    "    fptr = open(os.environ['OUTPUT_PATH'], 'w')\n",
    "\n",
    "    first_multiple_input = input().rstrip().split()\n",
    "\n",
    "    n = first_multiple_input[0]\n",
    "\n",
    "    k = int(first_multiple_input[1])\n",
    "\n",
    "    result = superDigit(n, k)\n",
    "\n",
    "    fptr.write(str(result) + '\\n')\n",
    "\n",
    "    fptr.close()\n"
   ]
  },
  {
   "cell_type": "markdown",
   "id": "1222eb4e-0849-4c97-964e-ceb10e95f649",
   "metadata": {},
   "source": [
    "## Insertion Sort - Part 1"
   ]
  },
  {
   "cell_type": "code",
   "execution_count": null,
   "id": "3e45658b-a12b-44f4-a740-9601d428ad36",
   "metadata": {},
   "outputs": [],
   "source": [
    "\n",
    "import math\n",
    "import os\n",
    "import random\n",
    "import re\n",
    "import sys\n",
    "\n",
    "#\n",
    "# Complete the 'insertionSort1' function below.\n",
    "#\n",
    "# The function accepts following parameters:\n",
    "#  1. INTEGER n\n",
    "#  2. INTEGER_ARRAY arr\n",
    "#\n",
    "\n",
    "def insertionSort1(n, arr):\n",
    "    target = arr[-1]\n",
    "    idx = n-2\n",
    "\n",
    "    while (target < arr[idx]) and (idx >= 0):\n",
    "        arr[idx+1] = arr[idx]\n",
    "        print(*arr)\n",
    "        idx -= 1\n",
    "\n",
    "    arr[idx+1] = target\n",
    "    print(*arr)\n",
    "\n",
    "if __name__ == '__main__':\n",
    "    n = int(input().strip())\n",
    "\n",
    "    arr = list(map(int, input().rstrip().split()))\n",
    "\n",
    "    insertionSort1(n, arr)"
   ]
  },
  {
   "cell_type": "markdown",
   "id": "7b50ea4d-089a-41ab-91ec-10d1c6e02794",
   "metadata": {},
   "source": [
    "## Insertion Sort - Part 2\n",
    "\n"
   ]
  },
  {
   "cell_type": "code",
   "execution_count": 8,
   "id": "78c48337-f2ef-43ad-8f7a-4c7eb38f6c5f",
   "metadata": {},
   "outputs": [
    {
     "name": "stdin",
     "output_type": "stream",
     "text": [
      " 6\n",
      " 1 4 3 5 6 2 \n"
     ]
    },
    {
     "name": "stdout",
     "output_type": "stream",
     "text": [
      "1 4 3 5 6 2\n",
      "1 3 4 5 6 2\n",
      "1 3 4 5 6 2\n",
      "1 3 4 5 6 2\n",
      "1 2 3 4 5 6\n"
     ]
    }
   ],
   "source": [
    "import sys\n",
    "\n",
    "def insertionSort1(start, arr):\n",
    "    probe = arr[start]\n",
    "    \n",
    "    for ind in range(start-1, -1, -1):\n",
    "        if arr[ind] > probe:\n",
    "            arr[ind+1] = arr[ind]\n",
    "        else:\n",
    "            arr[ind+1] = probe\n",
    "            break\n",
    "    if arr[0] > probe:\n",
    "        arr[0] = probe\n",
    "\n",
    "def insertionSort2(n, arr):\n",
    "    for ind in range(1, len(arr)):\n",
    "        insertionSort1(ind, arr)\n",
    "        print(\" \".join(map(str, arr)))\n",
    "\n",
    "if __name__ == \"__main__\":\n",
    "    n = int(input().strip())\n",
    "    arr = list(map(int, input().strip().split(' ')))\n",
    "    insertionSort2(n, arr)"
   ]
  },
  {
   "cell_type": "code",
   "execution_count": null,
   "id": "645a8ffb-826c-495f-831a-48514ea4eafc",
   "metadata": {},
   "outputs": [],
   "source": []
  }
 ],
 "metadata": {
  "kernelspec": {
   "display_name": "Python 3",
   "language": "python",
   "name": "python3"
  },
  "language_info": {
   "codemirror_mode": {
    "name": "ipython",
    "version": 3
   },
   "file_extension": ".py",
   "mimetype": "text/x-python",
   "name": "python",
   "nbconvert_exporter": "python",
   "pygments_lexer": "ipython3",
   "version": "3.8.8"
  }
 },
 "nbformat": 4,
 "nbformat_minor": 5
}
